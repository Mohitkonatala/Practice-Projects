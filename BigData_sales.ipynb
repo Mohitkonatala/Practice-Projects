{
 "cells": [
  {
   "cell_type": "code",
   "execution_count": 1,
   "id": "9d9dc9b8",
   "metadata": {},
   "outputs": [
    {
     "name": "stdout",
     "output_type": "stream",
     "text": [
      "Requirement already satisfied: xgboost in d:\\anaconda_python\\lib\\site-packages (1.5.2)\n",
      "Requirement already satisfied: numpy in d:\\anaconda_python\\lib\\site-packages (from xgboost) (1.20.1)\n",
      "Requirement already satisfied: scipy in d:\\anaconda_python\\lib\\site-packages (from xgboost) (1.6.2)\n"
     ]
    }
   ],
   "source": [
    "!pip install xgboost"
   ]
  },
  {
   "cell_type": "code",
   "execution_count": 65,
   "id": "2dcf78dc",
   "metadata": {},
   "outputs": [],
   "source": [
    "#importing libraries\n",
    "import pandas as pd\n",
    "import numpy as np\n",
    "import matplotlib.pyplot as plt\n",
    "import seaborn as sns\n",
    "from sklearn.model_selection import train_test_split\n",
    "import warnings\n",
    "warnings.filterwarnings('ignore')\n",
    "from scipy.stats import skew\n",
    "from sklearn.preprocessing import LabelEncoder\n",
    "from sklearn.ensemble import RandomForestRegressor\n",
    "from sklearn.tree import DecisionTreeRegressor\n",
    "import xgboost\n",
    "from statsmodels.stats.outliers_influence import variance_inflation_factor\n",
    "from sklearn.model_selection import GridSearchCV as gs\n",
    "from sklearn.model_selection import RandomizedSearchCV as rs\n",
    "import pickle\n",
    "from sklearn import metrics"
   ]
  },
  {
   "cell_type": "code",
   "execution_count": 3,
   "id": "fbec64e1",
   "metadata": {},
   "outputs": [],
   "source": [
    "url_train='https://raw.githubusercontent.com/dsrscientist/bigdatamart_rep/master/bigdatamart_Train.csv'\n",
    "url_test='https://raw.githubusercontent.com/dsrscientist/bigdatamart_rep/master/bigdatamart_Test.csv'"
   ]
  },
  {
   "cell_type": "code",
   "execution_count": 4,
   "id": "38ca87bf",
   "metadata": {},
   "outputs": [],
   "source": [
    "train_dataset=pd.read_csv(url_train)\n",
    "test_dataset=pd.read_csv(url_test)"
   ]
  },
  {
   "cell_type": "code",
   "execution_count": 5,
   "id": "b83d6169",
   "metadata": {},
   "outputs": [
    {
     "name": "stdout",
     "output_type": "stream",
     "text": [
      "Shape of train :  (8523, 12) \n",
      "\n",
      "Shape of test :  (5681, 11)\n"
     ]
    }
   ],
   "source": [
    "print('Shape of train : ',train_dataset.shape,'\\n\\nShape of test : ',test_dataset.shape)"
   ]
  },
  {
   "cell_type": "markdown",
   "id": "86244c96",
   "metadata": {},
   "source": [
    "test dataset doesn't contain same number of columns as train (the missing column is target column)"
   ]
  },
  {
   "cell_type": "code",
   "execution_count": 6,
   "id": "73ab9e3f",
   "metadata": {},
   "outputs": [
    {
     "data": {
      "text/html": [
       "<div>\n",
       "<style scoped>\n",
       "    .dataframe tbody tr th:only-of-type {\n",
       "        vertical-align: middle;\n",
       "    }\n",
       "\n",
       "    .dataframe tbody tr th {\n",
       "        vertical-align: top;\n",
       "    }\n",
       "\n",
       "    .dataframe thead th {\n",
       "        text-align: right;\n",
       "    }\n",
       "</style>\n",
       "<table border=\"1\" class=\"dataframe\">\n",
       "  <thead>\n",
       "    <tr style=\"text-align: right;\">\n",
       "      <th></th>\n",
       "      <th>Item_Identifier</th>\n",
       "      <th>Item_Weight</th>\n",
       "      <th>Item_Fat_Content</th>\n",
       "      <th>Item_Visibility</th>\n",
       "      <th>Item_Type</th>\n",
       "      <th>Item_MRP</th>\n",
       "      <th>Outlet_Identifier</th>\n",
       "      <th>Outlet_Establishment_Year</th>\n",
       "      <th>Outlet_Size</th>\n",
       "      <th>Outlet_Location_Type</th>\n",
       "      <th>Outlet_Type</th>\n",
       "      <th>Item_Outlet_Sales</th>\n",
       "    </tr>\n",
       "  </thead>\n",
       "  <tbody>\n",
       "    <tr>\n",
       "      <th>0</th>\n",
       "      <td>FDA15</td>\n",
       "      <td>9.30</td>\n",
       "      <td>Low Fat</td>\n",
       "      <td>0.016047</td>\n",
       "      <td>Dairy</td>\n",
       "      <td>249.8092</td>\n",
       "      <td>OUT049</td>\n",
       "      <td>1999</td>\n",
       "      <td>Medium</td>\n",
       "      <td>Tier 1</td>\n",
       "      <td>Supermarket Type1</td>\n",
       "      <td>3735.1380</td>\n",
       "    </tr>\n",
       "    <tr>\n",
       "      <th>1</th>\n",
       "      <td>DRC01</td>\n",
       "      <td>5.92</td>\n",
       "      <td>Regular</td>\n",
       "      <td>0.019278</td>\n",
       "      <td>Soft Drinks</td>\n",
       "      <td>48.2692</td>\n",
       "      <td>OUT018</td>\n",
       "      <td>2009</td>\n",
       "      <td>Medium</td>\n",
       "      <td>Tier 3</td>\n",
       "      <td>Supermarket Type2</td>\n",
       "      <td>443.4228</td>\n",
       "    </tr>\n",
       "    <tr>\n",
       "      <th>2</th>\n",
       "      <td>FDN15</td>\n",
       "      <td>17.50</td>\n",
       "      <td>Low Fat</td>\n",
       "      <td>0.016760</td>\n",
       "      <td>Meat</td>\n",
       "      <td>141.6180</td>\n",
       "      <td>OUT049</td>\n",
       "      <td>1999</td>\n",
       "      <td>Medium</td>\n",
       "      <td>Tier 1</td>\n",
       "      <td>Supermarket Type1</td>\n",
       "      <td>2097.2700</td>\n",
       "    </tr>\n",
       "    <tr>\n",
       "      <th>3</th>\n",
       "      <td>FDX07</td>\n",
       "      <td>19.20</td>\n",
       "      <td>Regular</td>\n",
       "      <td>0.000000</td>\n",
       "      <td>Fruits and Vegetables</td>\n",
       "      <td>182.0950</td>\n",
       "      <td>OUT010</td>\n",
       "      <td>1998</td>\n",
       "      <td>NaN</td>\n",
       "      <td>Tier 3</td>\n",
       "      <td>Grocery Store</td>\n",
       "      <td>732.3800</td>\n",
       "    </tr>\n",
       "    <tr>\n",
       "      <th>4</th>\n",
       "      <td>NCD19</td>\n",
       "      <td>8.93</td>\n",
       "      <td>Low Fat</td>\n",
       "      <td>0.000000</td>\n",
       "      <td>Household</td>\n",
       "      <td>53.8614</td>\n",
       "      <td>OUT013</td>\n",
       "      <td>1987</td>\n",
       "      <td>High</td>\n",
       "      <td>Tier 3</td>\n",
       "      <td>Supermarket Type1</td>\n",
       "      <td>994.7052</td>\n",
       "    </tr>\n",
       "  </tbody>\n",
       "</table>\n",
       "</div>"
      ],
      "text/plain": [
       "  Item_Identifier  Item_Weight Item_Fat_Content  Item_Visibility  \\\n",
       "0           FDA15         9.30          Low Fat         0.016047   \n",
       "1           DRC01         5.92          Regular         0.019278   \n",
       "2           FDN15        17.50          Low Fat         0.016760   \n",
       "3           FDX07        19.20          Regular         0.000000   \n",
       "4           NCD19         8.93          Low Fat         0.000000   \n",
       "\n",
       "               Item_Type  Item_MRP Outlet_Identifier  \\\n",
       "0                  Dairy  249.8092            OUT049   \n",
       "1            Soft Drinks   48.2692            OUT018   \n",
       "2                   Meat  141.6180            OUT049   \n",
       "3  Fruits and Vegetables  182.0950            OUT010   \n",
       "4              Household   53.8614            OUT013   \n",
       "\n",
       "   Outlet_Establishment_Year Outlet_Size Outlet_Location_Type  \\\n",
       "0                       1999      Medium               Tier 1   \n",
       "1                       2009      Medium               Tier 3   \n",
       "2                       1999      Medium               Tier 1   \n",
       "3                       1998         NaN               Tier 3   \n",
       "4                       1987        High               Tier 3   \n",
       "\n",
       "         Outlet_Type  Item_Outlet_Sales  \n",
       "0  Supermarket Type1          3735.1380  \n",
       "1  Supermarket Type2           443.4228  \n",
       "2  Supermarket Type1          2097.2700  \n",
       "3      Grocery Store           732.3800  \n",
       "4  Supermarket Type1           994.7052  "
      ]
     },
     "execution_count": 6,
     "metadata": {},
     "output_type": "execute_result"
    }
   ],
   "source": [
    "train_dataset.head()"
   ]
  },
  {
   "cell_type": "code",
   "execution_count": 7,
   "id": "b0ebd00d",
   "metadata": {},
   "outputs": [
    {
     "data": {
      "text/html": [
       "<div>\n",
       "<style scoped>\n",
       "    .dataframe tbody tr th:only-of-type {\n",
       "        vertical-align: middle;\n",
       "    }\n",
       "\n",
       "    .dataframe tbody tr th {\n",
       "        vertical-align: top;\n",
       "    }\n",
       "\n",
       "    .dataframe thead th {\n",
       "        text-align: right;\n",
       "    }\n",
       "</style>\n",
       "<table border=\"1\" class=\"dataframe\">\n",
       "  <thead>\n",
       "    <tr style=\"text-align: right;\">\n",
       "      <th></th>\n",
       "      <th>Item_Identifier</th>\n",
       "      <th>Item_Weight</th>\n",
       "      <th>Item_Fat_Content</th>\n",
       "      <th>Item_Visibility</th>\n",
       "      <th>Item_Type</th>\n",
       "      <th>Item_MRP</th>\n",
       "      <th>Outlet_Identifier</th>\n",
       "      <th>Outlet_Establishment_Year</th>\n",
       "      <th>Outlet_Size</th>\n",
       "      <th>Outlet_Location_Type</th>\n",
       "      <th>Outlet_Type</th>\n",
       "    </tr>\n",
       "  </thead>\n",
       "  <tbody>\n",
       "    <tr>\n",
       "      <th>0</th>\n",
       "      <td>FDW58</td>\n",
       "      <td>20.750</td>\n",
       "      <td>Low Fat</td>\n",
       "      <td>0.007565</td>\n",
       "      <td>Snack Foods</td>\n",
       "      <td>107.8622</td>\n",
       "      <td>OUT049</td>\n",
       "      <td>1999</td>\n",
       "      <td>Medium</td>\n",
       "      <td>Tier 1</td>\n",
       "      <td>Supermarket Type1</td>\n",
       "    </tr>\n",
       "    <tr>\n",
       "      <th>1</th>\n",
       "      <td>FDW14</td>\n",
       "      <td>8.300</td>\n",
       "      <td>reg</td>\n",
       "      <td>0.038428</td>\n",
       "      <td>Dairy</td>\n",
       "      <td>87.3198</td>\n",
       "      <td>OUT017</td>\n",
       "      <td>2007</td>\n",
       "      <td>NaN</td>\n",
       "      <td>Tier 2</td>\n",
       "      <td>Supermarket Type1</td>\n",
       "    </tr>\n",
       "    <tr>\n",
       "      <th>2</th>\n",
       "      <td>NCN55</td>\n",
       "      <td>14.600</td>\n",
       "      <td>Low Fat</td>\n",
       "      <td>0.099575</td>\n",
       "      <td>Others</td>\n",
       "      <td>241.7538</td>\n",
       "      <td>OUT010</td>\n",
       "      <td>1998</td>\n",
       "      <td>NaN</td>\n",
       "      <td>Tier 3</td>\n",
       "      <td>Grocery Store</td>\n",
       "    </tr>\n",
       "    <tr>\n",
       "      <th>3</th>\n",
       "      <td>FDQ58</td>\n",
       "      <td>7.315</td>\n",
       "      <td>Low Fat</td>\n",
       "      <td>0.015388</td>\n",
       "      <td>Snack Foods</td>\n",
       "      <td>155.0340</td>\n",
       "      <td>OUT017</td>\n",
       "      <td>2007</td>\n",
       "      <td>NaN</td>\n",
       "      <td>Tier 2</td>\n",
       "      <td>Supermarket Type1</td>\n",
       "    </tr>\n",
       "    <tr>\n",
       "      <th>4</th>\n",
       "      <td>FDY38</td>\n",
       "      <td>NaN</td>\n",
       "      <td>Regular</td>\n",
       "      <td>0.118599</td>\n",
       "      <td>Dairy</td>\n",
       "      <td>234.2300</td>\n",
       "      <td>OUT027</td>\n",
       "      <td>1985</td>\n",
       "      <td>Medium</td>\n",
       "      <td>Tier 3</td>\n",
       "      <td>Supermarket Type3</td>\n",
       "    </tr>\n",
       "  </tbody>\n",
       "</table>\n",
       "</div>"
      ],
      "text/plain": [
       "  Item_Identifier  Item_Weight Item_Fat_Content  Item_Visibility    Item_Type  \\\n",
       "0           FDW58       20.750          Low Fat         0.007565  Snack Foods   \n",
       "1           FDW14        8.300              reg         0.038428        Dairy   \n",
       "2           NCN55       14.600          Low Fat         0.099575       Others   \n",
       "3           FDQ58        7.315          Low Fat         0.015388  Snack Foods   \n",
       "4           FDY38          NaN          Regular         0.118599        Dairy   \n",
       "\n",
       "   Item_MRP Outlet_Identifier  Outlet_Establishment_Year Outlet_Size  \\\n",
       "0  107.8622            OUT049                       1999      Medium   \n",
       "1   87.3198            OUT017                       2007         NaN   \n",
       "2  241.7538            OUT010                       1998         NaN   \n",
       "3  155.0340            OUT017                       2007         NaN   \n",
       "4  234.2300            OUT027                       1985      Medium   \n",
       "\n",
       "  Outlet_Location_Type        Outlet_Type  \n",
       "0               Tier 1  Supermarket Type1  \n",
       "1               Tier 2  Supermarket Type1  \n",
       "2               Tier 3      Grocery Store  \n",
       "3               Tier 2  Supermarket Type1  \n",
       "4               Tier 3  Supermarket Type3  "
      ]
     },
     "execution_count": 7,
     "metadata": {},
     "output_type": "execute_result"
    }
   ],
   "source": [
    "test_dataset.head()"
   ]
  },
  {
   "cell_type": "markdown",
   "id": "6abd6ea2",
   "metadata": {},
   "source": [
    "# # Exploratory Data Analysis"
   ]
  },
  {
   "cell_type": "code",
   "execution_count": 8,
   "id": "38b570d0",
   "metadata": {},
   "outputs": [
    {
     "name": "stdout",
     "output_type": "stream",
     "text": [
      "Item_Identifier \n",
      "\n",
      "Item_Weight \n",
      "\n",
      "Item_Fat_Content \n",
      "\n",
      "Item_Visibility \n",
      "\n",
      "Item_Type \n",
      "\n",
      "Item_MRP \n",
      "\n",
      "Outlet_Identifier \n",
      "\n",
      "Outlet_Establishment_Year \n",
      "\n",
      "Outlet_Size \n",
      "\n",
      "Outlet_Location_Type \n",
      "\n",
      "Outlet_Type \n",
      "\n",
      "Item_Outlet_Sales \n",
      "\n"
     ]
    }
   ],
   "source": [
    "# Column Names\n",
    "for i in train_dataset.columns:\n",
    "    print(i,'\\n')"
   ]
  },
  {
   "cell_type": "markdown",
   "id": "bcb39f2a",
   "metadata": {},
   "source": [
    "As we can see there are 12 columns in our train_dataset and Item_Outlet_Sales is the target column rest all are Features "
   ]
  },
  {
   "cell_type": "markdown",
   "id": "c55dab82",
   "metadata": {},
   "source": [
    "Description of Each Feature:\n",
    "1.  Item_Identifier : unique id of the product\n",
    "2.  Item_Weight : weight of the product\n",
    "3.  Item_Fat_Content : tells us how fat is contained in the product\n",
    "4.  Item_Visibility : percentage of area allocated for the product in the store\n",
    "5.  Item_Type: tells us the category of the item \n",
    "6.  Item_MRP: max. retail price of the product\n",
    "7.  Outlet_Identifier : ID of the store where the product is\n",
    "8.  Outlet_Establishment_Year : the year in which the store was established \n",
    "9.  Outlet_size: Area of the store\n",
    "10. Outlet_Location_Type: type of city where the store is located\n",
    "11. Outlet_type: is the store grocery or a supermarket\n",
    "12. Item_Outlet_Sales: Sales of the item in that particular Store"
   ]
  },
  {
   "cell_type": "markdown",
   "id": "962fc2ad",
   "metadata": {},
   "source": [
    "**Hypothesis: Try to assume the factors which can effect the Data prediction before Analysis\n",
    "\n",
    "1. Item visiblity can effect the sales as it draws attention of the customers\n",
    "2. Item type can be most of the affect the sales as depending on the item for example if the item is daily use or consumble raw food item such as milk the sales will be automatically high\n",
    "3. Year of Establishment because the older the store the more awareness amongst locals about the store \n",
    "4. Area of the Store can be the holding platform more customers\n",
    "5. Location of the store is important because urban population are more attracted to stores commonly"
   ]
  },
  {
   "cell_type": "code",
   "execution_count": 9,
   "id": "e4c6d8ff",
   "metadata": {},
   "outputs": [
    {
     "name": "stdout",
     "output_type": "stream",
     "text": [
      "<class 'pandas.core.frame.DataFrame'>\n",
      "RangeIndex: 8523 entries, 0 to 8522\n",
      "Data columns (total 12 columns):\n",
      " #   Column                     Non-Null Count  Dtype  \n",
      "---  ------                     --------------  -----  \n",
      " 0   Item_Identifier            8523 non-null   object \n",
      " 1   Item_Weight                7060 non-null   float64\n",
      " 2   Item_Fat_Content           8523 non-null   object \n",
      " 3   Item_Visibility            8523 non-null   float64\n",
      " 4   Item_Type                  8523 non-null   object \n",
      " 5   Item_MRP                   8523 non-null   float64\n",
      " 6   Outlet_Identifier          8523 non-null   object \n",
      " 7   Outlet_Establishment_Year  8523 non-null   int64  \n",
      " 8   Outlet_Size                6113 non-null   object \n",
      " 9   Outlet_Location_Type       8523 non-null   object \n",
      " 10  Outlet_Type                8523 non-null   object \n",
      " 11  Item_Outlet_Sales          8523 non-null   float64\n",
      "dtypes: float64(4), int64(1), object(7)\n",
      "memory usage: 799.2+ KB\n"
     ]
    }
   ],
   "source": [
    "train_dataset.info()"
   ]
  },
  {
   "cell_type": "markdown",
   "id": "7d39ec13",
   "metadata": {},
   "source": [
    "Item weight, Item Visibility, Item MRP, Item Oultet Sales are Numerical Data rest all are Categorical Data(Ordinal).\n",
    "Note: Establishment Year is categorical even after being integer type because the year mentioned is like an ID "
   ]
  },
  {
   "cell_type": "code",
   "execution_count": 10,
   "id": "b29559b1",
   "metadata": {},
   "outputs": [
    {
     "data": {
      "text/html": [
       "<div>\n",
       "<style scoped>\n",
       "    .dataframe tbody tr th:only-of-type {\n",
       "        vertical-align: middle;\n",
       "    }\n",
       "\n",
       "    .dataframe tbody tr th {\n",
       "        vertical-align: top;\n",
       "    }\n",
       "\n",
       "    .dataframe thead th {\n",
       "        text-align: right;\n",
       "    }\n",
       "</style>\n",
       "<table border=\"1\" class=\"dataframe\">\n",
       "  <thead>\n",
       "    <tr style=\"text-align: right;\">\n",
       "      <th></th>\n",
       "      <th>Item_Weight</th>\n",
       "      <th>Item_Visibility</th>\n",
       "      <th>Item_MRP</th>\n",
       "      <th>Outlet_Establishment_Year</th>\n",
       "      <th>Item_Outlet_Sales</th>\n",
       "    </tr>\n",
       "  </thead>\n",
       "  <tbody>\n",
       "    <tr>\n",
       "      <th>count</th>\n",
       "      <td>7060.000000</td>\n",
       "      <td>8523.000000</td>\n",
       "      <td>8523.000000</td>\n",
       "      <td>8523.000000</td>\n",
       "      <td>8523.000000</td>\n",
       "    </tr>\n",
       "    <tr>\n",
       "      <th>mean</th>\n",
       "      <td>12.857645</td>\n",
       "      <td>0.066132</td>\n",
       "      <td>140.992782</td>\n",
       "      <td>1997.831867</td>\n",
       "      <td>2181.288914</td>\n",
       "    </tr>\n",
       "    <tr>\n",
       "      <th>std</th>\n",
       "      <td>4.643456</td>\n",
       "      <td>0.051598</td>\n",
       "      <td>62.275067</td>\n",
       "      <td>8.371760</td>\n",
       "      <td>1706.499616</td>\n",
       "    </tr>\n",
       "    <tr>\n",
       "      <th>min</th>\n",
       "      <td>4.555000</td>\n",
       "      <td>0.000000</td>\n",
       "      <td>31.290000</td>\n",
       "      <td>1985.000000</td>\n",
       "      <td>33.290000</td>\n",
       "    </tr>\n",
       "    <tr>\n",
       "      <th>25%</th>\n",
       "      <td>8.773750</td>\n",
       "      <td>0.026989</td>\n",
       "      <td>93.826500</td>\n",
       "      <td>1987.000000</td>\n",
       "      <td>834.247400</td>\n",
       "    </tr>\n",
       "    <tr>\n",
       "      <th>50%</th>\n",
       "      <td>12.600000</td>\n",
       "      <td>0.053931</td>\n",
       "      <td>143.012800</td>\n",
       "      <td>1999.000000</td>\n",
       "      <td>1794.331000</td>\n",
       "    </tr>\n",
       "    <tr>\n",
       "      <th>75%</th>\n",
       "      <td>16.850000</td>\n",
       "      <td>0.094585</td>\n",
       "      <td>185.643700</td>\n",
       "      <td>2004.000000</td>\n",
       "      <td>3101.296400</td>\n",
       "    </tr>\n",
       "    <tr>\n",
       "      <th>max</th>\n",
       "      <td>21.350000</td>\n",
       "      <td>0.328391</td>\n",
       "      <td>266.888400</td>\n",
       "      <td>2009.000000</td>\n",
       "      <td>13086.964800</td>\n",
       "    </tr>\n",
       "  </tbody>\n",
       "</table>\n",
       "</div>"
      ],
      "text/plain": [
       "       Item_Weight  Item_Visibility     Item_MRP  Outlet_Establishment_Year  \\\n",
       "count  7060.000000      8523.000000  8523.000000                8523.000000   \n",
       "mean     12.857645         0.066132   140.992782                1997.831867   \n",
       "std       4.643456         0.051598    62.275067                   8.371760   \n",
       "min       4.555000         0.000000    31.290000                1985.000000   \n",
       "25%       8.773750         0.026989    93.826500                1987.000000   \n",
       "50%      12.600000         0.053931   143.012800                1999.000000   \n",
       "75%      16.850000         0.094585   185.643700                2004.000000   \n",
       "max      21.350000         0.328391   266.888400                2009.000000   \n",
       "\n",
       "       Item_Outlet_Sales  \n",
       "count        8523.000000  \n",
       "mean         2181.288914  \n",
       "std          1706.499616  \n",
       "min            33.290000  \n",
       "25%           834.247400  \n",
       "50%          1794.331000  \n",
       "75%          3101.296400  \n",
       "max         13086.964800  "
      ]
     },
     "execution_count": 10,
     "metadata": {},
     "output_type": "execute_result"
    }
   ],
   "source": [
    "train_dataset.describe()"
   ]
  },
  {
   "cell_type": "markdown",
   "id": "e5a6e2db",
   "metadata": {},
   "source": [
    "Noticed:\n",
    "1. Item weight mean is 12 kilo and max. weight is upto 21kilo\n",
    "2. The max. price is 266 rupees so safe to assume that no eletronics or gadgets are being sold in any store\n",
    "3. Establishment year are between 1985-2009"
   ]
  },
  {
   "cell_type": "code",
   "execution_count": 11,
   "id": "14e98e0c",
   "metadata": {},
   "outputs": [
    {
     "data": {
      "text/plain": [
       "Item_Identifier                 0\n",
       "Item_Weight                  1463\n",
       "Item_Fat_Content                0\n",
       "Item_Visibility                 0\n",
       "Item_Type                       0\n",
       "Item_MRP                        0\n",
       "Outlet_Identifier               0\n",
       "Outlet_Establishment_Year       0\n",
       "Outlet_Size                  2410\n",
       "Outlet_Location_Type            0\n",
       "Outlet_Type                     0\n",
       "Item_Outlet_Sales               0\n",
       "dtype: int64"
      ]
     },
     "execution_count": 11,
     "metadata": {},
     "output_type": "execute_result"
    }
   ],
   "source": [
    "# checking for null values in both train and test datasets\n",
    "train_dataset.isnull().sum()"
   ]
  },
  {
   "cell_type": "code",
   "execution_count": 12,
   "id": "bd3370ec",
   "metadata": {},
   "outputs": [
    {
     "data": {
      "text/plain": [
       "Item_Identifier                 0\n",
       "Item_Weight                   976\n",
       "Item_Fat_Content                0\n",
       "Item_Visibility                 0\n",
       "Item_Type                       0\n",
       "Item_MRP                        0\n",
       "Outlet_Identifier               0\n",
       "Outlet_Establishment_Year       0\n",
       "Outlet_Size                  1606\n",
       "Outlet_Location_Type            0\n",
       "Outlet_Type                     0\n",
       "dtype: int64"
      ]
     },
     "execution_count": 12,
     "metadata": {},
     "output_type": "execute_result"
    }
   ],
   "source": [
    "test_dataset.isnull().sum()"
   ]
  },
  {
   "cell_type": "code",
   "execution_count": 13,
   "id": "18445b3d",
   "metadata": {},
   "outputs": [
    {
     "name": "stdout",
     "output_type": "stream",
     "text": [
      "Percentage of data missing in train data set \n",
      " 1. item weight : 17.165317376510618 \n",
      " 2. Outlet Size :  28.27642848762173\n"
     ]
    }
   ],
   "source": [
    "print('Percentage of data missing in train data set \\n 1. item weight :',(train_dataset['Item_Weight'].isnull().sum())*100/len(train_dataset['Item_Identifier']),'\\n 2. Outlet Size : ',(train_dataset['Outlet_Size'].isnull().sum())*100/len(train_dataset['Item_Identifier']))"
   ]
  },
  {
   "cell_type": "code",
   "execution_count": 14,
   "id": "f82b20f5",
   "metadata": {},
   "outputs": [
    {
     "name": "stdout",
     "output_type": "stream",
     "text": [
      "Percentage of data missing in test data set \n",
      " 1. item weight : 17.180073930646014 \n",
      " 2. Outlet Size :  28.269670832599893\n"
     ]
    }
   ],
   "source": [
    "print('Percentage of data missing in test data set \\n 1. item weight :',(test_dataset['Item_Weight'].isnull().sum())*100/len(test_dataset['Item_Identifier']),'\\n 2. Outlet Size : ',(test_dataset['Outlet_Size'].isnull().sum())*100/len(test_dataset['Item_Identifier']))"
   ]
  },
  {
   "cell_type": "markdown",
   "id": "e2610d3e",
   "metadata": {},
   "source": [
    "Missing values can't be removed as percentage is too high in both data so have to implement some technique"
   ]
  },
  {
   "cell_type": "code",
   "execution_count": 15,
   "id": "daa3bda8",
   "metadata": {},
   "outputs": [
    {
     "data": {
      "text/plain": [
       "Item_Identifier              1559\n",
       "Item_Weight                   416\n",
       "Item_Fat_Content                5\n",
       "Item_Visibility              7880\n",
       "Item_Type                      16\n",
       "Item_MRP                     5938\n",
       "Outlet_Identifier              10\n",
       "Outlet_Establishment_Year       9\n",
       "Outlet_Size                     4\n",
       "Outlet_Location_Type            3\n",
       "Outlet_Type                     4\n",
       "Item_Outlet_Sales            3493\n",
       "dtype: int64"
      ]
     },
     "execution_count": 15,
     "metadata": {},
     "output_type": "execute_result"
    }
   ],
   "source": [
    "# checking unique data in the dataset\n",
    "train_dataset.apply(lambda x: len(x.unique()))"
   ]
  },
  {
   "cell_type": "code",
   "execution_count": 16,
   "id": "fcde0bd3",
   "metadata": {},
   "outputs": [
    {
     "name": "stdout",
     "output_type": "stream",
     "text": [
      "\n",
      "Frequency of Categories for varible  Item_Fat_Content\n",
      "Low Fat    5089\n",
      "Regular    2889\n",
      "LF          316\n",
      "reg         117\n",
      "low fat     112\n",
      "Name: Item_Fat_Content, dtype: int64\n",
      "\n",
      "Frequency of Categories for varible  Item_Type\n",
      "Fruits and Vegetables    1232\n",
      "Snack Foods              1200\n",
      "Household                 910\n",
      "Frozen Foods              856\n",
      "Dairy                     682\n",
      "Canned                    649\n",
      "Baking Goods              648\n",
      "Health and Hygiene        520\n",
      "Soft Drinks               445\n",
      "Meat                      425\n",
      "Breads                    251\n",
      "Hard Drinks               214\n",
      "Others                    169\n",
      "Starchy Foods             148\n",
      "Breakfast                 110\n",
      "Seafood                    64\n",
      "Name: Item_Type, dtype: int64\n",
      "\n",
      "Frequency of Categories for varible  Outlet_Size\n",
      "Medium    2793\n",
      "Small     2388\n",
      "High       932\n",
      "Name: Outlet_Size, dtype: int64\n",
      "\n",
      "Frequency of Categories for varible  Outlet_Location_Type\n",
      "Tier 3    3350\n",
      "Tier 2    2785\n",
      "Tier 1    2388\n",
      "Name: Outlet_Location_Type, dtype: int64\n",
      "\n",
      "Frequency of Categories for varible  Outlet_Type\n",
      "Supermarket Type1    5577\n",
      "Grocery Store        1083\n",
      "Supermarket Type3     935\n",
      "Supermarket Type2     928\n",
      "Name: Outlet_Type, dtype: int64\n"
     ]
    }
   ],
   "source": [
    "#Filter categorical variables and fetch the numerical values of each ordinal data\n",
    "ordinal_columns = [x for x in train_dataset.dtypes.index if train_dataset.dtypes[x]=='object']\n",
    "#Exclude ID cols and source:\n",
    "ordinal_columns = [x for x in ordinal_columns if x not in ['Item_Identifier','Outlet_Identifier']]\n",
    "#Print frequency of categories\n",
    "for col in ordinal_columns:\n",
    "    print ('\\nFrequency of Categories for varible ',col)\n",
    "    print (train_dataset[col].value_counts())"
   ]
  },
  {
   "cell_type": "code",
   "execution_count": 17,
   "id": "4eec2cc7",
   "metadata": {},
   "outputs": [],
   "source": [
    "# handling missing values of item weight in both the datasets\n",
    "train_dataset['Item_Weight'].fillna(train_dataset['Item_Weight'].mean(), inplace=True)\n",
    "test_dataset['Item_Weight'].fillna(test_dataset['Item_Weight'].mean(), inplace=True)"
   ]
  },
  {
   "cell_type": "code",
   "execution_count": 18,
   "id": "2221b030",
   "metadata": {},
   "outputs": [
    {
     "name": "stdout",
     "output_type": "stream",
     "text": [
      "Mode for each Outlet_Type:  Outlet_Type Grocery Store Supermarket Type1 Supermarket Type2  \\\n",
      "Outlet_Size         Small             Small            Medium   \n",
      "\n",
      "Outlet_Type Supermarket Type3  \n",
      "Outlet_Size            Medium  \n"
     ]
    }
   ],
   "source": [
    "#Determing the mode for train dataset\n",
    "# filling the missing values in \"Outlet_Size\" column with Mode\n",
    "mode_of_outlet_size = train_dataset.pivot_table(values='Outlet_Size', columns='Outlet_Type', aggfunc=(lambda x: x.mode()[0]))\n",
    "print ('Mode for each Outlet_Type: ',mode_of_outlet_size)\n"
   ]
  },
  {
   "cell_type": "markdown",
   "id": "7e4bbe9e",
   "metadata": {},
   "source": [
    "As we can see mode for outlet size varies with the outlet type"
   ]
  },
  {
   "cell_type": "code",
   "execution_count": 19,
   "id": "eb797263",
   "metadata": {},
   "outputs": [],
   "source": [
    "#replacing null values with mode\n",
    "miss_bool_train = train_dataset['Outlet_Size'].isnull() \n",
    "\n",
    "train_dataset.loc[miss_bool_train,'Outlet_Size'] = train_dataset.loc[miss_bool_train,'Outlet_Type'].apply(lambda x: mode_of_outlet_size[x])"
   ]
  },
  {
   "cell_type": "code",
   "execution_count": 20,
   "id": "3feaa642",
   "metadata": {},
   "outputs": [
    {
     "data": {
      "text/plain": [
       "Item_Identifier              0\n",
       "Item_Weight                  0\n",
       "Item_Fat_Content             0\n",
       "Item_Visibility              0\n",
       "Item_Type                    0\n",
       "Item_MRP                     0\n",
       "Outlet_Identifier            0\n",
       "Outlet_Establishment_Year    0\n",
       "Outlet_Size                  0\n",
       "Outlet_Location_Type         0\n",
       "Outlet_Type                  0\n",
       "Item_Outlet_Sales            0\n",
       "dtype: int64"
      ]
     },
     "execution_count": 20,
     "metadata": {},
     "output_type": "execute_result"
    }
   ],
   "source": [
    "#checking to see if there anymore null values\n",
    "train_dataset.isnull().sum()"
   ]
  },
  {
   "cell_type": "code",
   "execution_count": 21,
   "id": "44b354f9",
   "metadata": {},
   "outputs": [
    {
     "name": "stdout",
     "output_type": "stream",
     "text": [
      "Mode for each Outlet_Type:  Outlet_Type Grocery Store Supermarket Type1 Supermarket Type2  \\\n",
      "Outlet_Size         Small             Small            Medium   \n",
      "\n",
      "Outlet_Type Supermarket Type3  \n",
      "Outlet_Size            Medium  \n"
     ]
    }
   ],
   "source": [
    "#Determing the mode for each for test dataset\n",
    "# filling the missing values in \"Outlet_Size\" column with Mode\n",
    "mode_of_outlet_size_p = test_dataset.pivot_table(values='Outlet_Size', columns='Outlet_Type', aggfunc=(lambda x: x.mode()[0]))\n",
    "print ('Mode for each Outlet_Type: ',mode_of_outlet_size_p)"
   ]
  },
  {
   "cell_type": "code",
   "execution_count": 22,
   "id": "e5d64c05",
   "metadata": {},
   "outputs": [],
   "source": [
    "#replacing null values with mode\n",
    "miss_bool_test = test_dataset['Outlet_Size'].isnull() \n",
    "\n",
    "test_dataset.loc[miss_bool_test,'Outlet_Size'] = test_dataset.loc[miss_bool_test,'Outlet_Type'].apply(lambda x: mode_of_outlet_size_p[x])"
   ]
  },
  {
   "cell_type": "code",
   "execution_count": 23,
   "id": "172b19fe",
   "metadata": {},
   "outputs": [
    {
     "data": {
      "text/plain": [
       "Item_Identifier              0\n",
       "Item_Weight                  0\n",
       "Item_Fat_Content             0\n",
       "Item_Visibility              0\n",
       "Item_Type                    0\n",
       "Item_MRP                     0\n",
       "Outlet_Identifier            0\n",
       "Outlet_Establishment_Year    0\n",
       "Outlet_Size                  0\n",
       "Outlet_Location_Type         0\n",
       "Outlet_Type                  0\n",
       "dtype: int64"
      ]
     },
     "execution_count": 23,
     "metadata": {},
     "output_type": "execute_result"
    }
   ],
   "source": [
    "test_dataset.isnull().sum()"
   ]
  },
  {
   "cell_type": "markdown",
   "id": "7c0bfcea",
   "metadata": {},
   "source": [
    "cleared all null values"
   ]
  },
  {
   "cell_type": "code",
   "execution_count": 24,
   "id": "4b1e207d",
   "metadata": {},
   "outputs": [
    {
     "data": {
      "image/png": "[encoded data removed]",
      "text/plain": [
       "<Figure size 432x432 with 1 Axes>"
      ]
     },
     "metadata": {
      "needs_background": "light"
     },
     "output_type": "display_data"
    }
   ],
   "source": [
    "#item weight\n",
    "plt.figure(figsize=(6,6))\n",
    "sns.distplot(train_dataset['Item_Weight'])\n",
    "plt.show()"
   ]
  },
  {
   "cell_type": "code",
   "execution_count": 25,
   "id": "bf123f19",
   "metadata": {},
   "outputs": [
    {
     "data": {
      "text/plain": [
       "<AxesSubplot:xlabel='Item_Fat_Content', ylabel='count'>"
      ]
     },
     "execution_count": 25,
     "metadata": {},
     "output_type": "execute_result"
    },
    {
     "data": {
      "image/png": "[encoded data removed]",
      "text/plain": [
       "<Figure size 576x432 with 1 Axes>"
      ]
     },
     "metadata": {
      "needs_background": "light"
     },
     "output_type": "display_data"
    }
   ],
   "source": [
    "plt.figure(figsize = (8,6))\n",
    "sns.countplot(x='Item_Fat_Content' ,data=train_dataset)"
   ]
  },
  {
   "cell_type": "code",
   "execution_count": 26,
   "id": "509afc39",
   "metadata": {},
   "outputs": [
    {
     "data": {
      "image/png": "[encoded data removed]",
      "text/plain": [
       "<Figure size 432x432 with 1 Axes>"
      ]
     },
     "metadata": {
      "needs_background": "light"
     },
     "output_type": "display_data"
    }
   ],
   "source": [
    "#visibility\n",
    "plt.figure(figsize=(6,6))\n",
    "sns.distplot(train_dataset['Item_Visibility'])\n",
    "plt.show()"
   ]
  },
  {
   "cell_type": "code",
   "execution_count": 27,
   "id": "e52efd3a",
   "metadata": {},
   "outputs": [
    {
     "data": {
      "text/plain": [
       "<AxesSubplot:xlabel='count', ylabel='Item_Type'>"
      ]
     },
     "execution_count": 27,
     "metadata": {},
     "output_type": "execute_result"
    },
    {
     "data": {
      "image/png": "[encoded data removed]",
      "text/plain": [
       "<Figure size 576x1080 with 1 Axes>"
      ]
     },
     "metadata": {
      "needs_background": "light"
     },
     "output_type": "display_data"
    }
   ],
   "source": [
    "#item type\n",
    "plt.figure(figsize = (8,15))\n",
    "sns.countplot(y='Item_Type' ,data=train_dataset)"
   ]
  },
  {
   "cell_type": "code",
   "execution_count": 28,
   "id": "2453ae51",
   "metadata": {},
   "outputs": [
    {
     "data": {
      "image/png": "[encoded data removed]",
      "text/plain": [
       "<Figure size 432x432 with 1 Axes>"
      ]
     },
     "metadata": {
      "needs_background": "light"
     },
     "output_type": "display_data"
    }
   ],
   "source": [
    "#price\n",
    "plt.figure(figsize=(6,6))\n",
    "sns.distplot(train_dataset['Item_MRP'])\n",
    "plt.show()"
   ]
  },
  {
   "cell_type": "code",
   "execution_count": 29,
   "id": "48cf82e8",
   "metadata": {},
   "outputs": [
    {
     "data": {
      "text/plain": [
       "<AxesSubplot:xlabel='count', ylabel='Outlet_Identifier'>"
      ]
     },
     "execution_count": 29,
     "metadata": {},
     "output_type": "execute_result"
    },
    {
     "data": {
      "image/png": "[encoded data removed]",
      "text/plain": [
       "<Figure size 576x576 with 1 Axes>"
      ]
     },
     "metadata": {
      "needs_background": "light"
     },
     "output_type": "display_data"
    }
   ],
   "source": [
    "#outlet index\n",
    "plt.figure(figsize = (8,8))\n",
    "sns.countplot(y='Outlet_Identifier' ,data=train_dataset)"
   ]
  },
  {
   "cell_type": "code",
   "execution_count": 30,
   "id": "bc620e21",
   "metadata": {},
   "outputs": [
    {
     "data": {
      "text/plain": [
       "<AxesSubplot:xlabel='Outlet_Establishment_Year', ylabel='count'>"
      ]
     },
     "execution_count": 30,
     "metadata": {},
     "output_type": "execute_result"
    },
    {
     "data": {
      "image/png": "[encoded data removed]",
      "text/plain": [
       "<Figure size 576x432 with 1 Axes>"
      ]
     },
     "metadata": {
      "needs_background": "light"
     },
     "output_type": "display_data"
    }
   ],
   "source": [
    "plt.figure(figsize = (8,6))\n",
    "sns.countplot(x='Outlet_Establishment_Year' ,data=train_dataset)"
   ]
  },
  {
   "cell_type": "code",
   "execution_count": 31,
   "id": "99335530",
   "metadata": {},
   "outputs": [
    {
     "data": {
      "text/plain": [
       "<AxesSubplot:xlabel='Outlet_Size', ylabel='count'>"
      ]
     },
     "execution_count": 31,
     "metadata": {},
     "output_type": "execute_result"
    },
    {
     "data": {
      "image/png": "[encoded data removed]",
      "text/plain": [
       "<Figure size 576x432 with 1 Axes>"
      ]
     },
     "metadata": {
      "needs_background": "light"
     },
     "output_type": "display_data"
    }
   ],
   "source": [
    "plt.figure(figsize = (8,6))\n",
    "sns.countplot(x='Outlet_Size' ,data=train_dataset)"
   ]
  },
  {
   "cell_type": "code",
   "execution_count": 32,
   "id": "c4f04a91",
   "metadata": {},
   "outputs": [
    {
     "data": {
      "text/plain": [
       "<AxesSubplot:xlabel='Outlet_Location_Type', ylabel='count'>"
      ]
     },
     "execution_count": 32,
     "metadata": {},
     "output_type": "execute_result"
    },
    {
     "data": {
      "image/png": "[encoded data removed]",
      "text/plain": [
       "<Figure size 576x432 with 1 Axes>"
      ]
     },
     "metadata": {
      "needs_background": "light"
     },
     "output_type": "display_data"
    }
   ],
   "source": [
    "plt.figure(figsize = (8,6))\n",
    "sns.countplot(x='Outlet_Location_Type' ,data=train_dataset)"
   ]
  },
  {
   "cell_type": "code",
   "execution_count": 33,
   "id": "fbddbb97",
   "metadata": {},
   "outputs": [
    {
     "data": {
      "text/plain": [
       "<AxesSubplot:xlabel='Outlet_Type', ylabel='count'>"
      ]
     },
     "execution_count": 33,
     "metadata": {},
     "output_type": "execute_result"
    },
    {
     "data": {
      "image/png": "[encoded data removed]",
      "text/plain": [
       "<Figure size 576x432 with 1 Axes>"
      ]
     },
     "metadata": {
      "needs_background": "light"
     },
     "output_type": "display_data"
    }
   ],
   "source": [
    "plt.figure(figsize = (8,6))\n",
    "sns.countplot(x='Outlet_Type' ,data=train_dataset)"
   ]
  },
  {
   "cell_type": "code",
   "execution_count": 34,
   "id": "77e78699",
   "metadata": {},
   "outputs": [
    {
     "name": "stdout",
     "output_type": "stream",
     "text": [
      "Skewness of Item weight :  0.09054551283289146\n",
      "Skewness of Item visibility :  1.16688513828559\n",
      "Skewness of Item MRP :  0.1271798803336854\n"
     ]
    }
   ],
   "source": [
    "print('Skewness of Item weight : ',skew(train_dataset['Item_Weight']))\n",
    "print('Skewness of Item visibility : ',skew(train_dataset['Item_Visibility']))\n",
    "print('Skewness of Item MRP : ',skew(train_dataset['Item_MRP']))"
   ]
  },
  {
   "cell_type": "markdown",
   "id": "7a35c708",
   "metadata": {},
   "source": [
    "the skewness of item weight and MRP are mininum which can be neglected"
   ]
  },
  {
   "cell_type": "code",
   "execution_count": 35,
   "id": "084e0a1e",
   "metadata": {},
   "outputs": [
    {
     "name": "stdout",
     "output_type": "stream",
     "text": [
      "        ITEM VISIBILITY\n"
     ]
    },
    {
     "data": {
      "image/png": "[encoded data removed]",
      "text/plain": [
       "<Figure size 720x504 with 1 Axes>"
      ]
     },
     "metadata": {
      "needs_background": "light"
     },
     "output_type": "display_data"
    }
   ],
   "source": [
    "print(\"        ITEM VISIBILITY\")\n",
    "#Checking outlier in Visibility \n",
    "fig = plt.figure(figsize =(10, 7))\n",
    " \n",
    "# Creating plot\n",
    "plt.boxplot(train_dataset['Item_Visibility'])\n",
    " \n",
    "# show plot\n",
    "plt.show()"
   ]
  },
  {
   "cell_type": "code",
   "execution_count": 36,
   "id": "4ebcd6a2",
   "metadata": {},
   "outputs": [
    {
     "name": "stdout",
     "output_type": "stream",
     "text": [
      "      ITEM MRP\n"
     ]
    },
    {
     "data": {
      "image/png": "[encoded data removed]",
      "text/plain": [
       "<Figure size 720x504 with 1 Axes>"
      ]
     },
     "metadata": {
      "needs_background": "light"
     },
     "output_type": "display_data"
    }
   ],
   "source": [
    "print(\"      ITEM MRP\")\n",
    "#Checking outlier in Item MRP \n",
    "fig = plt.figure(figsize =(10, 7))\n",
    " \n",
    "# Creating plot\n",
    "plt.boxplot(train_dataset['Item_MRP'])\n",
    " \n",
    "# show plot\n",
    "plt.show()"
   ]
  },
  {
   "cell_type": "code",
   "execution_count": 37,
   "id": "ddeb38fd",
   "metadata": {},
   "outputs": [
    {
     "name": "stdout",
     "output_type": "stream",
     "text": [
      "       ITEM WEIGHT\n"
     ]
    },
    {
     "data": {
      "image/png": "[encoded data removed]",
      "text/plain": [
       "<Figure size 720x504 with 1 Axes>"
      ]
     },
     "metadata": {
      "needs_background": "light"
     },
     "output_type": "display_data"
    }
   ],
   "source": [
    "print(\"       ITEM WEIGHT\")\n",
    "#Checking outlier in item weight\n",
    "fig = plt.figure(figsize =(10, 7))\n",
    " \n",
    "# Creating plot\n",
    "plt.boxplot(train_dataset['Item_Weight'])\n",
    " \n",
    "# show plot\n",
    "plt.show()"
   ]
  },
  {
   "cell_type": "markdown",
   "id": "61625da3",
   "metadata": {},
   "source": [
    "**Summary:\n",
    "1. Count of Low Fat is more compared to regular and low is also mentioned as LF and low fat which are the same as Low Fat\n",
    "2. VegetableFruits , Snacks and household have maximum sales compared to other item types , seafood has the least sales\n",
    "3. store ID: OUT010 AND OUT019 are equal and less count compared to other store ID's which also equal to one another\n",
    "4. 1985 has highest establishment of all the other year and 1999 has the least establishment , inbetween year 1987-1997 there no establishment ( for a whole decade)\n",
    "5. Small outlet size have the highest count of all followed by medium and high respectively\n",
    "6. Tier 3 has the highest count for location type\n",
    "7. Supermarket1 has the highest count in Outlet type , grocery is marginally greater than Supermarket2,3.\n",
    "8. skewness in Item MRP and weight are min and can be neglected also no outlier\n",
    "9. Visibility has positive skewness and outliers can't mend with it until we can see how is its correlation with sales"
   ]
  },
  {
   "cell_type": "code",
   "execution_count": 38,
   "id": "cdf6932a",
   "metadata": {},
   "outputs": [],
   "source": [
    "#modifying the fat content data\n",
    "train_dataset.replace({'Item_Fat_Content':{'LF':'Low Fat','reg':'Regular','low fat':'Low Fat'}}, inplace=True)\n",
    "test_dataset.replace({'Item_Fat_Content':{'LF':'Low Fat','reg':'Regular','low fat':'Low Fat'}}, inplace=True)"
   ]
  },
  {
   "cell_type": "code",
   "execution_count": 39,
   "id": "0ab687af",
   "metadata": {},
   "outputs": [
    {
     "name": "stdout",
     "output_type": "stream",
     "text": [
      "Train data :\n",
      " Low Fat    5517\n",
      "Regular    3006\n",
      "Name: Item_Fat_Content, dtype: int64 \n",
      " Test data :\n",
      " Low Fat    3668\n",
      "Regular    2013\n",
      "Name: Item_Fat_Content, dtype: int64\n"
     ]
    }
   ],
   "source": [
    "print('Train data :\\n',train_dataset['Item_Fat_Content'].value_counts(),'\\n Test data :\\n',test_dataset['Item_Fat_Content'].value_counts())"
   ]
  },
  {
   "cell_type": "code",
   "execution_count": 40,
   "id": "5dc6b6f8",
   "metadata": {},
   "outputs": [],
   "source": [
    "#converting the categorical values into numerical values for train dataset\n",
    "le= LabelEncoder()\n",
    "train_dataset['Item_Identifier']=le.fit_transform(train_dataset['Item_Identifier'])\n",
    "train_dataset['Item_Fat_Content']=le.fit_transform(train_dataset['Item_Fat_Content'])\n",
    "train_dataset['Item_Identifier']=le.fit_transform(train_dataset['Item_Identifier'])\n",
    "train_dataset['Item_Type']=le.fit_transform(train_dataset['Item_Type'])\n",
    "train_dataset['Outlet_Identifier']=le.fit_transform(train_dataset['Outlet_Identifier'])\n",
    "train_dataset['Outlet_Size']=le.fit_transform(train_dataset['Outlet_Size'])\n",
    "train_dataset['Outlet_Location_Type']=le.fit_transform(train_dataset['Outlet_Location_Type'])\n",
    "train_dataset['Outlet_Type']=le.fit_transform(train_dataset['Outlet_Type'])"
   ]
  },
  {
   "cell_type": "code",
   "execution_count": 41,
   "id": "38d86c6a",
   "metadata": {},
   "outputs": [],
   "source": [
    "#converting the categorical values into numerical values for train dataset\n",
    "test_dataset['Item_Identifier']=le.fit_transform(test_dataset['Item_Identifier'])\n",
    "test_dataset['Item_Fat_Content']=le.fit_transform(test_dataset['Item_Fat_Content'])\n",
    "test_dataset['Item_Identifier']=le.fit_transform(test_dataset['Item_Identifier'])\n",
    "test_dataset['Item_Type']=le.fit_transform(test_dataset['Item_Type'])\n",
    "test_dataset['Outlet_Identifier']=le.fit_transform(test_dataset['Outlet_Identifier'])\n",
    "test_dataset['Outlet_Size']=le.fit_transform(test_dataset['Outlet_Size'])\n",
    "test_dataset['Outlet_Location_Type']=le.fit_transform(test_dataset['Outlet_Location_Type'])\n",
    "test_dataset['Outlet_Type']=le.fit_transform(test_dataset['Outlet_Type'])"
   ]
  },
  {
   "cell_type": "code",
   "execution_count": 42,
   "id": "af8ddd0f",
   "metadata": {},
   "outputs": [
    {
     "name": "stdout",
     "output_type": "stream",
     "text": [
      "Train Data Set Type :\n",
      "\n",
      " Item_Identifier                int64\n",
      "Item_Weight                  float64\n",
      "Item_Fat_Content               int32\n",
      "Item_Visibility              float64\n",
      "Item_Type                      int32\n",
      "Item_MRP                     float64\n",
      "Outlet_Identifier              int32\n",
      "Outlet_Establishment_Year      int64\n",
      "Outlet_Size                    int32\n",
      "Outlet_Location_Type           int32\n",
      "Outlet_Type                    int32\n",
      "Item_Outlet_Sales            float64\n",
      "dtype: object \n",
      "\n",
      "\n",
      "Test Data Set Type :\n",
      "\n",
      " Item_Identifier                int64\n",
      "Item_Weight                  float64\n",
      "Item_Fat_Content               int32\n",
      "Item_Visibility              float64\n",
      "Item_Type                      int32\n",
      "Item_MRP                     float64\n",
      "Outlet_Identifier              int32\n",
      "Outlet_Establishment_Year      int64\n",
      "Outlet_Size                    int32\n",
      "Outlet_Location_Type           int32\n",
      "Outlet_Type                    int32\n",
      "dtype: object\n"
     ]
    }
   ],
   "source": [
    "print('Train Data Set Type :\\n\\n',train_dataset.dtypes,'\\n\\n\\nTest Data Set Type :\\n\\n',test_dataset.dtypes)"
   ]
  },
  {
   "cell_type": "markdown",
   "id": "037f80e8",
   "metadata": {},
   "source": [
    "All the Data is converted into numerical data"
   ]
  },
  {
   "cell_type": "code",
   "execution_count": 43,
   "id": "ee333598",
   "metadata": {},
   "outputs": [
    {
     "data": {
      "text/html": [
       "<div>\n",
       "<style scoped>\n",
       "    .dataframe tbody tr th:only-of-type {\n",
       "        vertical-align: middle;\n",
       "    }\n",
       "\n",
       "    .dataframe tbody tr th {\n",
       "        vertical-align: top;\n",
       "    }\n",
       "\n",
       "    .dataframe thead th {\n",
       "        text-align: right;\n",
       "    }\n",
       "</style>\n",
       "<table border=\"1\" class=\"dataframe\">\n",
       "  <thead>\n",
       "    <tr style=\"text-align: right;\">\n",
       "      <th></th>\n",
       "      <th>Item_Identifier</th>\n",
       "      <th>Item_Weight</th>\n",
       "      <th>Item_Fat_Content</th>\n",
       "      <th>Item_Visibility</th>\n",
       "      <th>Item_Type</th>\n",
       "      <th>Item_MRP</th>\n",
       "      <th>Outlet_Identifier</th>\n",
       "      <th>Outlet_Establishment_Year</th>\n",
       "      <th>Outlet_Size</th>\n",
       "      <th>Outlet_Location_Type</th>\n",
       "      <th>Outlet_Type</th>\n",
       "      <th>Item_Outlet_Sales</th>\n",
       "    </tr>\n",
       "  </thead>\n",
       "  <tbody>\n",
       "    <tr>\n",
       "      <th>0</th>\n",
       "      <td>156</td>\n",
       "      <td>9.30</td>\n",
       "      <td>0</td>\n",
       "      <td>0.016047</td>\n",
       "      <td>4</td>\n",
       "      <td>249.8092</td>\n",
       "      <td>9</td>\n",
       "      <td>1999</td>\n",
       "      <td>1</td>\n",
       "      <td>0</td>\n",
       "      <td>1</td>\n",
       "      <td>3735.1380</td>\n",
       "    </tr>\n",
       "    <tr>\n",
       "      <th>1</th>\n",
       "      <td>8</td>\n",
       "      <td>5.92</td>\n",
       "      <td>1</td>\n",
       "      <td>0.019278</td>\n",
       "      <td>14</td>\n",
       "      <td>48.2692</td>\n",
       "      <td>3</td>\n",
       "      <td>2009</td>\n",
       "      <td>1</td>\n",
       "      <td>2</td>\n",
       "      <td>2</td>\n",
       "      <td>443.4228</td>\n",
       "    </tr>\n",
       "    <tr>\n",
       "      <th>2</th>\n",
       "      <td>662</td>\n",
       "      <td>17.50</td>\n",
       "      <td>0</td>\n",
       "      <td>0.016760</td>\n",
       "      <td>10</td>\n",
       "      <td>141.6180</td>\n",
       "      <td>9</td>\n",
       "      <td>1999</td>\n",
       "      <td>1</td>\n",
       "      <td>0</td>\n",
       "      <td>1</td>\n",
       "      <td>2097.2700</td>\n",
       "    </tr>\n",
       "    <tr>\n",
       "      <th>3</th>\n",
       "      <td>1121</td>\n",
       "      <td>19.20</td>\n",
       "      <td>1</td>\n",
       "      <td>0.000000</td>\n",
       "      <td>6</td>\n",
       "      <td>182.0950</td>\n",
       "      <td>0</td>\n",
       "      <td>1998</td>\n",
       "      <td>2</td>\n",
       "      <td>2</td>\n",
       "      <td>0</td>\n",
       "      <td>732.3800</td>\n",
       "    </tr>\n",
       "    <tr>\n",
       "      <th>4</th>\n",
       "      <td>1297</td>\n",
       "      <td>8.93</td>\n",
       "      <td>0</td>\n",
       "      <td>0.000000</td>\n",
       "      <td>9</td>\n",
       "      <td>53.8614</td>\n",
       "      <td>1</td>\n",
       "      <td>1987</td>\n",
       "      <td>0</td>\n",
       "      <td>2</td>\n",
       "      <td>1</td>\n",
       "      <td>994.7052</td>\n",
       "    </tr>\n",
       "  </tbody>\n",
       "</table>\n",
       "</div>"
      ],
      "text/plain": [
       "   Item_Identifier  Item_Weight  Item_Fat_Content  Item_Visibility  Item_Type  \\\n",
       "0              156         9.30                 0         0.016047          4   \n",
       "1                8         5.92                 1         0.019278         14   \n",
       "2              662        17.50                 0         0.016760         10   \n",
       "3             1121        19.20                 1         0.000000          6   \n",
       "4             1297         8.93                 0         0.000000          9   \n",
       "\n",
       "   Item_MRP  Outlet_Identifier  Outlet_Establishment_Year  Outlet_Size  \\\n",
       "0  249.8092                  9                       1999            1   \n",
       "1   48.2692                  3                       2009            1   \n",
       "2  141.6180                  9                       1999            1   \n",
       "3  182.0950                  0                       1998            2   \n",
       "4   53.8614                  1                       1987            0   \n",
       "\n",
       "   Outlet_Location_Type  Outlet_Type  Item_Outlet_Sales  \n",
       "0                     0            1          3735.1380  \n",
       "1                     2            2           443.4228  \n",
       "2                     0            1          2097.2700  \n",
       "3                     2            0           732.3800  \n",
       "4                     2            1           994.7052  "
      ]
     },
     "execution_count": 43,
     "metadata": {},
     "output_type": "execute_result"
    }
   ],
   "source": [
    "train_dataset.head()"
   ]
  },
  {
   "cell_type": "code",
   "execution_count": 44,
   "id": "eca0aba9",
   "metadata": {},
   "outputs": [
    {
     "data": {
      "image/png": "[encoded data removed]",
      "text/plain": [
       "<Figure size 720x576 with 2 Axes>"
      ]
     },
     "metadata": {
      "needs_background": "light"
     },
     "output_type": "display_data"
    }
   ],
   "source": [
    "plt.figure(figsize=(10,8))\n",
    "sns.heatmap(train_dataset.corr(), annot=True)\n",
    "plt.show()"
   ]
  },
  {
   "cell_type": "markdown",
   "id": "28af5fcc",
   "metadata": {},
   "source": [
    "Visibility has less correlation with the sales lets take a look into the outliers "
   ]
  },
  {
   "cell_type": "code",
   "execution_count": 45,
   "id": "512e361a",
   "metadata": {},
   "outputs": [
    {
     "name": "stdout",
     "output_type": "stream",
     "text": [
      "Number of 0 values in item visibility: 526\n"
     ]
    }
   ],
   "source": [
    "missing_values = (train_dataset['Item_Visibility'] == 0)\n",
    "\n",
    "print ('Number of 0 values in item visibility: %d'%sum(missing_values))"
   ]
  },
  {
   "cell_type": "markdown",
   "id": "769b9d95",
   "metadata": {},
   "source": [
    "Zero visibility percentage of area makes no sense where the item is getting sold , so modification the data is necessary"
   ]
  },
  {
   "cell_type": "code",
   "execution_count": 46,
   "id": "f945976f",
   "metadata": {},
   "outputs": [],
   "source": [
    "# imputing mean value for zero in train data set\n",
    "Vmean=train_dataset['Item_Visibility'].mean()\n",
    "train_dataset.loc[missing_values,'Item_Visibility'] = train_dataset.loc[missing_values,'Item_Identifier'].replace(Vmean)"
   ]
  },
  {
   "cell_type": "code",
   "execution_count": 47,
   "id": "2d097fe7",
   "metadata": {},
   "outputs": [],
   "source": [
    "# imputing mean value for zero in train data set\n",
    "missing_values_p = (test_dataset['Item_Visibility'] == 0)\n",
    "Vmean_p=test_dataset['Item_Visibility'].mean()\n",
    "test_dataset.loc[missing_values_p,'Item_Visibility'] = test_dataset.loc[missing_values_p,'Item_Identifier'].replace(Vmean_p)"
   ]
  },
  {
   "cell_type": "markdown",
   "id": "1f41e7b6",
   "metadata": {},
   "source": [
    "# Model Training and prediction"
   ]
  },
  {
   "cell_type": "code",
   "execution_count": 48,
   "id": "7f9f42b7",
   "metadata": {},
   "outputs": [],
   "source": [
    "X = train_dataset.drop(columns='Item_Outlet_Sales', axis=1)\n",
    "Y = train_dataset['Item_Outlet_Sales']"
   ]
  },
  {
   "cell_type": "code",
   "execution_count": 66,
   "id": "dd955721",
   "metadata": {},
   "outputs": [
    {
     "name": "stdout",
     "output_type": "stream",
     "text": [
      "Fitting 5 folds for each of 10 candidates, totalling 50 fits\n"
     ]
    },
    {
     "data": {
      "text/plain": [
       "RandomizedSearchCV(cv=5, estimator=DecisionTreeRegressor(),\n",
       "                   param_distributions={'criterion': ['mse', 'friedman_mse',\n",
       "                                                      'mae', 'poisson'],\n",
       "                                        'max_depth': [2, 4, 6, 7, 9, 10],\n",
       "                                        'max_features': ['auto', 'sqrt',\n",
       "                                                         'log2'],\n",
       "                                        'min_samples_leaf': [1, 2],\n",
       "                                        'min_samples_split': [2, 5, 6],\n",
       "                                        'splitter': ['best', 'random']},\n",
       "                   verbose=True)"
      ]
     },
     "execution_count": 66,
     "metadata": {},
     "output_type": "execute_result"
    }
   ],
   "source": [
    "dtc=DecisionTreeRegressor()\n",
    "paras_dtc={\n",
    "            'criterion': ['mse','friedman_mse','mae','poisson'],\n",
    "            'splitter':['best','random'],\n",
    "            'max_depth': [2,4,6,7,9,10],\n",
    "            'min_samples_split': [2, 5, 6],\n",
    "            'min_samples_leaf': [1,2],\n",
    "            'max_features': ['auto', 'sqrt','log2'],\n",
    "}\n",
    "dtc_rs=rs(dtc,param_distributions=paras_dtc,cv=5, verbose=True)\n",
    "dtc_rs.fit(X,Y)"
   ]
  },
  {
   "cell_type": "code",
   "execution_count": 67,
   "id": "67f2b1bc",
   "metadata": {},
   "outputs": [
    {
     "data": {
      "text/plain": [
       "DecisionTreeRegressor(criterion='friedman_mse', max_depth=10,\n",
       "                      max_features='auto', min_samples_leaf=2,\n",
       "                      min_samples_split=5)"
      ]
     },
     "execution_count": 67,
     "metadata": {},
     "output_type": "execute_result"
    }
   ],
   "source": [
    "dtc_rs.best_estimator_"
   ]
  },
  {
   "cell_type": "code",
   "execution_count": 68,
   "id": "033e4265",
   "metadata": {},
   "outputs": [
    {
     "data": {
      "text/plain": [
       "DecisionTreeRegressor(criterion='friedman_mse', max_depth=10,\n",
       "                      max_features='auto', min_samples_leaf=2,\n",
       "                      min_samples_split=5)"
      ]
     },
     "execution_count": 68,
     "metadata": {},
     "output_type": "execute_result"
    }
   ],
   "source": [
    "model1=DecisionTreeRegressor(criterion='friedman_mse', max_depth=10,\n",
    "                      max_features='auto', min_samples_leaf=2,\n",
    "                      min_samples_split=5)\n",
    "model1.fit(X,Y)"
   ]
  },
  {
   "cell_type": "code",
   "execution_count": 69,
   "id": "2caf127f",
   "metadata": {},
   "outputs": [],
   "source": [
    "training_data_p1=model1.predict(X)\n",
    "r2_value1=metrics.r2_score(Y,training_data_p1)"
   ]
  },
  {
   "cell_type": "code",
   "execution_count": 70,
   "id": "df84488a",
   "metadata": {},
   "outputs": [
    {
     "name": "stdout",
     "output_type": "stream",
     "text": [
      "R Squared value Decision Tree Regression :  0.677073536465999\n",
      "RMSE value for  Decision Tree Regression :  969.6891445103186\n"
     ]
    }
   ],
   "source": [
    "print('R Squared value Decision Tree Regression : ', r2_value1)\n",
    "print('RMSE value for  Decision Tree Regression : ',np.sqrt(metrics.mean_squared_error(Y, training_data_p1)))"
   ]
  },
  {
   "cell_type": "code",
   "execution_count": 51,
   "id": "7ce67b65",
   "metadata": {},
   "outputs": [
    {
     "name": "stdout",
     "output_type": "stream",
     "text": [
      "Fitting 3 folds for each of 360 candidates, totalling 1080 fits\n"
     ]
    },
    {
     "data": {
      "text/plain": [
       "GridSearchCV(cv=3, estimator=RandomForestRegressor(), n_jobs=4,\n",
       "             param_grid={'bootstrap': [True, False], 'max_depth': [2, 4, 6],\n",
       "                         'max_features': ['auto', 'sqrt'],\n",
       "                         'min_samples_leaf': [1, 2],\n",
       "                         'min_samples_split': [2, 5, 10],\n",
       "                         'n_estimators': [10, 17, 33, 48, 80]},\n",
       "             verbose=2)"
      ]
     },
     "execution_count": 51,
     "metadata": {},
     "output_type": "execute_result"
    }
   ],
   "source": [
    "rfr= RandomForestRegressor()\n",
    "parameter_rfr={\n",
    "         'n_estimators': [10, 17, 33, 48, 80],\n",
    "         'max_features': ['auto', 'sqrt'],\n",
    "         'max_depth': [2,4,6],\n",
    "         'min_samples_split': [2, 5, 10],\n",
    "         'min_samples_leaf': [1, 2],\n",
    "         'bootstrap': [True, False]\n",
    "         \n",
    "}\n",
    "rfr_gs= gs(estimator =rfr, param_grid=parameter_rfr,cv=3, verbose=2, n_jobs=4)\n",
    "rfr_gs.fit(X,Y)"
   ]
  },
  {
   "cell_type": "code",
   "execution_count": 52,
   "id": "f8598f22",
   "metadata": {},
   "outputs": [
    {
     "data": {
      "text/plain": [
       "{'bootstrap': True,\n",
       " 'max_depth': 6,\n",
       " 'max_features': 'auto',\n",
       " 'min_samples_leaf': 2,\n",
       " 'min_samples_split': 10,\n",
       " 'n_estimators': 80}"
      ]
     },
     "execution_count": 52,
     "metadata": {},
     "output_type": "execute_result"
    }
   ],
   "source": [
    "rfr_gs.best_params_"
   ]
  },
  {
   "cell_type": "code",
   "execution_count": 56,
   "id": "2b7be9cc",
   "metadata": {},
   "outputs": [],
   "source": [
    "model2=RandomForestRegressor(bootstrap= True,\n",
    " max_depth= 6,\n",
    " max_features= 'auto',\n",
    " min_samples_leaf= 2,\n",
    " min_samples_split= 10,\n",
    " n_estimators= 80)"
   ]
  },
  {
   "cell_type": "code",
   "execution_count": 58,
   "id": "cec3dcd4",
   "metadata": {},
   "outputs": [
    {
     "data": {
      "text/plain": [
       "RandomForestRegressor(max_depth=6, min_samples_leaf=2, min_samples_split=10,\n",
       "                      n_estimators=80)"
      ]
     },
     "execution_count": 58,
     "metadata": {},
     "output_type": "execute_result"
    }
   ],
   "source": [
    "model2.fit(X,Y)"
   ]
  },
  {
   "cell_type": "code",
   "execution_count": 59,
   "id": "9891e156",
   "metadata": {},
   "outputs": [],
   "source": [
    "training_data_p=model2.predict(X)\n",
    "r2_value=metrics.r2_score(Y,training_data_p)"
   ]
  },
  {
   "cell_type": "code",
   "execution_count": 60,
   "id": "84d96e09",
   "metadata": {},
   "outputs": [
    {
     "name": "stdout",
     "output_type": "stream",
     "text": [
      "R Squared value for Random forest Regressor  0.6206462051835795\n",
      "RMSE value for Random forest Regressor:  1051.0005225275595\n"
     ]
    }
   ],
   "source": [
    "print('R Squared value for Random forest Regressor ', r2_value)\n",
    "print('RMSE value for Random forest Regressor: ',np.sqrt(metrics.mean_squared_error(Y, training_data_p)))"
   ]
  },
  {
   "cell_type": "code",
   "execution_count": 106,
   "id": "b74cecce",
   "metadata": {
    "scrolled": false
   },
   "outputs": [
    {
     "name": "stdout",
     "output_type": "stream",
     "text": [
      "Fitting 5 folds for each of 10 candidates, totalling 50 fits\n",
      "[CV 1/5] END gamma=0.1, learning_rate=0.15, max_depth=3, n_estimators=20, n_jobs=300; total time=   0.0s\n",
      "[CV 2/5] END gamma=0.1, learning_rate=0.15, max_depth=3, n_estimators=20, n_jobs=300; total time=   0.0s\n",
      "[CV 3/5] END gamma=0.1, learning_rate=0.15, max_depth=3, n_estimators=20, n_jobs=300; total time=   0.0s\n",
      "[CV 4/5] END gamma=0.1, learning_rate=0.15, max_depth=3, n_estimators=20, n_jobs=300; total time=   0.0s\n",
      "[CV 5/5] END gamma=0.1, learning_rate=0.15, max_depth=3, n_estimators=20, n_jobs=300; total time=   0.0s\n",
      "[CV 1/5] END gamma=0.3, learning_rate=0.2, max_depth=8, n_estimators=20, n_jobs=300; total time=   0.1s\n",
      "[CV 2/5] END gamma=0.3, learning_rate=0.2, max_depth=8, n_estimators=20, n_jobs=300; total time=   0.1s\n",
      "[CV 3/5] END gamma=0.3, learning_rate=0.2, max_depth=8, n_estimators=20, n_jobs=300; total time=   0.2s\n",
      "[CV 4/5] END gamma=0.3, learning_rate=0.2, max_depth=8, n_estimators=20, n_jobs=300; total time=   0.1s\n",
      "[CV 5/5] END gamma=0.3, learning_rate=0.2, max_depth=8, n_estimators=20, n_jobs=300; total time=   0.1s\n",
      "[CV 1/5] END gamma=0.0, learning_rate=0.3, max_depth=5, n_estimators=200, n_jobs=100; total time=   0.5s\n",
      "[CV 2/5] END gamma=0.0, learning_rate=0.3, max_depth=5, n_estimators=200, n_jobs=100; total time=   0.5s\n",
      "[CV 3/5] END gamma=0.0, learning_rate=0.3, max_depth=5, n_estimators=200, n_jobs=100; total time=   0.5s\n",
      "[CV 4/5] END gamma=0.0, learning_rate=0.3, max_depth=5, n_estimators=200, n_jobs=100; total time=   0.5s\n",
      "[CV 5/5] END gamma=0.0, learning_rate=0.3, max_depth=5, n_estimators=200, n_jobs=100; total time=   0.5s\n",
      "[CV 1/5] END gamma=0.0, learning_rate=0.15, max_depth=4, n_estimators=200, n_jobs=200; total time=   0.5s\n",
      "[CV 2/5] END gamma=0.0, learning_rate=0.15, max_depth=4, n_estimators=200, n_jobs=200; total time=   0.5s\n",
      "[CV 3/5] END gamma=0.0, learning_rate=0.15, max_depth=4, n_estimators=200, n_jobs=200; total time=   0.5s\n",
      "[CV 4/5] END gamma=0.0, learning_rate=0.15, max_depth=4, n_estimators=200, n_jobs=200; total time=   0.5s\n",
      "[CV 5/5] END gamma=0.0, learning_rate=0.15, max_depth=4, n_estimators=200, n_jobs=200; total time=   0.5s\n",
      "[CV 1/5] END gamma=0.0, learning_rate=0.15, max_depth=6, n_estimators=200, n_jobs=200; total time=   0.9s\n",
      "[CV 2/5] END gamma=0.0, learning_rate=0.15, max_depth=6, n_estimators=200, n_jobs=200; total time=   0.9s\n",
      "[CV 3/5] END gamma=0.0, learning_rate=0.15, max_depth=6, n_estimators=200, n_jobs=200; total time=   0.9s\n",
      "[CV 4/5] END gamma=0.0, learning_rate=0.15, max_depth=6, n_estimators=200, n_jobs=200; total time=   0.9s\n",
      "[CV 5/5] END gamma=0.0, learning_rate=0.15, max_depth=6, n_estimators=200, n_jobs=200; total time=   0.9s\n",
      "[CV 1/5] END gamma=0.0, learning_rate=0.1, max_depth=3, n_estimators=20, n_jobs=300; total time=   0.0s\n",
      "[CV 2/5] END gamma=0.0, learning_rate=0.1, max_depth=3, n_estimators=20, n_jobs=300; total time=   0.0s\n",
      "[CV 3/5] END gamma=0.0, learning_rate=0.1, max_depth=3, n_estimators=20, n_jobs=300; total time=   0.0s\n",
      "[CV 4/5] END gamma=0.0, learning_rate=0.1, max_depth=3, n_estimators=20, n_jobs=300; total time=   0.0s\n",
      "[CV 5/5] END gamma=0.0, learning_rate=0.1, max_depth=3, n_estimators=20, n_jobs=300; total time=   0.0s\n",
      "[CV 1/5] END gamma=0.3, learning_rate=0.15, max_depth=3, n_estimators=200, n_jobs=300; total time=   0.5s\n",
      "[CV 2/5] END gamma=0.3, learning_rate=0.15, max_depth=3, n_estimators=200, n_jobs=300; total time=   0.5s\n",
      "[CV 3/5] END gamma=0.3, learning_rate=0.15, max_depth=3, n_estimators=200, n_jobs=300; total time=   0.5s\n",
      "[CV 4/5] END gamma=0.3, learning_rate=0.15, max_depth=3, n_estimators=200, n_jobs=300; total time=   0.5s\n",
      "[CV 5/5] END gamma=0.3, learning_rate=0.15, max_depth=3, n_estimators=200, n_jobs=300; total time=   0.5s\n",
      "[CV 1/5] END gamma=0.3, learning_rate=0.1, max_depth=3, n_estimators=200, n_jobs=300; total time=   0.5s\n",
      "[CV 2/5] END gamma=0.3, learning_rate=0.1, max_depth=3, n_estimators=200, n_jobs=300; total time=   0.5s\n",
      "[CV 3/5] END gamma=0.3, learning_rate=0.1, max_depth=3, n_estimators=200, n_jobs=300; total time=   0.5s\n",
      "[CV 4/5] END gamma=0.3, learning_rate=0.1, max_depth=3, n_estimators=200, n_jobs=300; total time=   0.5s\n",
      "[CV 5/5] END gamma=0.3, learning_rate=0.1, max_depth=3, n_estimators=200, n_jobs=300; total time=   0.5s\n",
      "[CV 1/5] END gamma=0.2, learning_rate=0.15, max_depth=15, n_estimators=200, n_jobs=100; total time=   4.1s\n",
      "[CV 2/5] END gamma=0.2, learning_rate=0.15, max_depth=15, n_estimators=200, n_jobs=100; total time=   3.7s\n",
      "[CV 3/5] END gamma=0.2, learning_rate=0.15, max_depth=15, n_estimators=200, n_jobs=100; total time=   4.0s\n",
      "[CV 4/5] END gamma=0.2, learning_rate=0.15, max_depth=15, n_estimators=200, n_jobs=100; total time=   3.6s\n",
      "[CV 5/5] END gamma=0.2, learning_rate=0.15, max_depth=15, n_estimators=200, n_jobs=100; total time=   3.7s\n",
      "[CV 1/5] END gamma=0.3, learning_rate=0.3, max_depth=6, n_estimators=20, n_jobs=300; total time=   0.1s\n",
      "[CV 2/5] END gamma=0.3, learning_rate=0.3, max_depth=6, n_estimators=20, n_jobs=300; total time=   0.0s\n",
      "[CV 3/5] END gamma=0.3, learning_rate=0.3, max_depth=6, n_estimators=20, n_jobs=300; total time=   0.0s\n",
      "[CV 4/5] END gamma=0.3, learning_rate=0.3, max_depth=6, n_estimators=20, n_jobs=300; total time=   0.0s\n",
      "[CV 5/5] END gamma=0.3, learning_rate=0.3, max_depth=6, n_estimators=20, n_jobs=300; total time=   0.0s\n"
     ]
    },
    {
     "data": {
      "text/plain": [
       "RandomizedSearchCV(cv=5,\n",
       "                   estimator=XGBRegressor(base_score=0.5, booster='gbtree',\n",
       "                                          colsample_bylevel=1,\n",
       "                                          colsample_bynode=1,\n",
       "                                          colsample_bytree=1,\n",
       "                                          enable_categorical=False, gamma=0,\n",
       "                                          gpu_id=-1, importance_type=None,\n",
       "                                          interaction_constraints='',\n",
       "                                          learning_rate=0.1, max_delta_step=0,\n",
       "                                          max_depth=20, min_child_weight=1,\n",
       "                                          missing=nan,\n",
       "                                          monotone_constraints='()',\n",
       "                                          n_estimators=20, n...\n",
       "                                          num_parallel_tree=1, predictor='auto',\n",
       "                                          random_state=0, reg_alpha=0,\n",
       "                                          reg_lambda=1, scale_pos_weight=1,\n",
       "                                          subsample=1, tree_method='exact',\n",
       "                                          validate_parameters=1,\n",
       "                                          verbosity=None),\n",
       "                   param_distributions={'gamma': [0.0, 0.1, 0.2, 0.3],\n",
       "                                        'learning_rate': [0.1, 0.15, 0.2, 0.3],\n",
       "                                        'max_depth': [3, 4, 5, 6, 8, 15],\n",
       "                                        'n_estimators': [20, 200],\n",
       "                                        'n_jobs': [100, 200, 300]},\n",
       "                   scoring='roc_auc', verbose=5)"
      ]
     },
     "execution_count": 106,
     "metadata": {},
     "output_type": "execute_result"
    }
   ],
   "source": [
    "xgb=XGBRegressor\n",
    "param_grid = {\n",
    "    'n_estimators': [20, 200],\n",
    "    'max_depth': [3, 4, 5, 6, 8, 15],\n",
    "    'learning_rate':[0.1,0.15,0.2,0.3],\n",
    "    'gamma':[0.0,0.1,0.2,0.3],\n",
    "    'n_jobs':[100,200,300]\n",
    "}\n",
    "CV_xgb = RandomizedSearchCV(xgb,param_distributions=param_grid,scoring ='roc_auc',cv=5,verbose=5)\n",
    "CV_xgb.fit(X,Y)"
   ]
  },
  {
   "cell_type": "code",
   "execution_count": 112,
   "id": "b0102aba",
   "metadata": {},
   "outputs": [
    {
     "data": {
      "text/plain": [
       "XGBRegressor(base_score=0.5, booster='gbtree', colsample_bylevel=1,\n",
       "             colsample_bynode=1, colsample_bytree=1, enable_categorical=False,\n",
       "             gamma=0.1, gpu_id=-1, importance_type=None,\n",
       "             interaction_constraints='', learning_rate=0.15, max_delta_step=0,\n",
       "             max_depth=3, min_child_weight=1, missing=nan,\n",
       "             monotone_constraints='()', n_estimators=20, n_jobs=300,\n",
       "             num_parallel_tree=1, predictor='auto', random_state=0, reg_alpha=0,\n",
       "             reg_lambda=1, scale_pos_weight=1, subsample=1, tree_method='exact',\n",
       "             validate_parameters=1, verbosity=None)"
      ]
     },
     "execution_count": 112,
     "metadata": {},
     "output_type": "execute_result"
    }
   ],
   "source": [
    "CV_xgb.best_estimator_"
   ]
  },
  {
   "cell_type": "code",
   "execution_count": 114,
   "id": "fbde8646",
   "metadata": {},
   "outputs": [],
   "source": [
    "model3=XGBRegressor(base_score=0.5, booster='gbtree', colsample_bylevel=1,\n",
    "             colsample_bynode=1, colsample_bytree=1, enable_categorical=False,\n",
    "             gamma=0.1, gpu_id=-1, importance_type=None,\n",
    "             learning_rate=0.15, max_delta_step=0,\n",
    "             max_depth=3, min_child_weight=1,\n",
    "             monotone_constraints='()', n_estimators=20, n_jobs=300,\n",
    "             num_parallel_tree=1, predictor='auto', random_state=0, reg_alpha=0,\n",
    "             reg_lambda=1, scale_pos_weight=1, subsample=1, tree_method='exact',\n",
    "             validate_parameters=1, verbosity=None)"
   ]
  },
  {
   "cell_type": "code",
   "execution_count": 116,
   "id": "f7dd520e",
   "metadata": {},
   "outputs": [
    {
     "data": {
      "text/plain": [
       "XGBRegressor(base_score=0.5, booster='gbtree', colsample_bylevel=1,\n",
       "             colsample_bynode=1, colsample_bytree=1, enable_categorical=False,\n",
       "             gamma=0.1, gpu_id=-1, importance_type=None,\n",
       "             interaction_constraints='', learning_rate=0.15, max_delta_step=0,\n",
       "             max_depth=3, min_child_weight=1, missing=nan,\n",
       "             monotone_constraints='()', n_estimators=20, n_jobs=300,\n",
       "             num_parallel_tree=1, predictor='auto', random_state=0, reg_alpha=0,\n",
       "             reg_lambda=1, scale_pos_weight=1, subsample=1, tree_method='exact',\n",
       "             validate_parameters=1, verbosity=None)"
      ]
     },
     "execution_count": 116,
     "metadata": {},
     "output_type": "execute_result"
    }
   ],
   "source": [
    "model3.fit(X,Y)"
   ]
  },
  {
   "cell_type": "code",
   "execution_count": 117,
   "id": "d301ba22",
   "metadata": {},
   "outputs": [],
   "source": [
    "training_data_p_for_xgb=model3.predict(X)\n",
    "r2_value_xgb=metrics.r2_score(Y,training_data_p_for_xgb)"
   ]
  },
  {
   "cell_type": "code",
   "execution_count": 118,
   "id": "049ec6a2",
   "metadata": {},
   "outputs": [
    {
     "name": "stdout",
     "output_type": "stream",
     "text": [
      "R Squared value for XGB Regressor :  0.6030918306119886\n",
      "RMSE value for XGB Regressor :  1075.04274947997\n"
     ]
    }
   ],
   "source": [
    "print('R Squared value for XGB Regressor : ', r2_value_xgb)\n",
    "print('RMSE value for XGB Regressor : ',np.sqrt(metrics.mean_squared_error(Y, training_data_p_for_xgb)))"
   ]
  },
  {
   "cell_type": "markdown",
   "id": "d7d5421f",
   "metadata": {},
   "source": [
    "Of all the model Decision Tree Regressor has higher accuracy and RMSE value compared to XGBRegressor and Random Forest Regressor"
   ]
  },
  {
   "cell_type": "markdown",
   "id": "1894f73a",
   "metadata": {},
   "source": [
    "# Predicting test Data"
   ]
  },
  {
   "cell_type": "code",
   "execution_count": 72,
   "id": "29ce0041",
   "metadata": {},
   "outputs": [],
   "source": [
    "predicted_sales_values=model1.predict(test_dataset)"
   ]
  },
  {
   "cell_type": "code",
   "execution_count": 76,
   "id": "4ea1e90d",
   "metadata": {},
   "outputs": [
    {
     "data": {
      "text/html": [
       "<div>\n",
       "<style scoped>\n",
       "    .dataframe tbody tr th:only-of-type {\n",
       "        vertical-align: middle;\n",
       "    }\n",
       "\n",
       "    .dataframe tbody tr th {\n",
       "        vertical-align: top;\n",
       "    }\n",
       "\n",
       "    .dataframe thead th {\n",
       "        text-align: right;\n",
       "    }\n",
       "</style>\n",
       "<table border=\"1\" class=\"dataframe\">\n",
       "  <thead>\n",
       "    <tr style=\"text-align: right;\">\n",
       "      <th></th>\n",
       "      <th>0</th>\n",
       "    </tr>\n",
       "  </thead>\n",
       "  <tbody>\n",
       "    <tr>\n",
       "      <th>0</th>\n",
       "      <td>1684.390238</td>\n",
       "    </tr>\n",
       "    <tr>\n",
       "      <th>1</th>\n",
       "      <td>1273.302764</td>\n",
       "    </tr>\n",
       "    <tr>\n",
       "      <th>2</th>\n",
       "      <td>706.234546</td>\n",
       "    </tr>\n",
       "    <tr>\n",
       "      <th>3</th>\n",
       "      <td>2237.401728</td>\n",
       "    </tr>\n",
       "    <tr>\n",
       "      <th>4</th>\n",
       "      <td>6348.421755</td>\n",
       "    </tr>\n",
       "  </tbody>\n",
       "</table>\n",
       "</div>"
      ],
      "text/plain": [
       "             0\n",
       "0  1684.390238\n",
       "1  1273.302764\n",
       "2   706.234546\n",
       "3  2237.401728\n",
       "4  6348.421755"
      ]
     },
     "execution_count": 76,
     "metadata": {},
     "output_type": "execute_result"
    }
   ],
   "source": [
    "framed_prediction_dtr=pd.DataFrame(predicted_sales_values)\n",
    "framed_prediction_dtr.head()"
   ]
  },
  {
   "cell_type": "code",
   "execution_count": 77,
   "id": "21dce949",
   "metadata": {},
   "outputs": [],
   "source": [
    "#saving the model\n",
    "Decision_Tree_R_Model_for_BigMart= pickle.dumps(model1)"
   ]
  }
 ],
 "metadata": {
  "kernelspec": {
   "display_name": "Python 3",
   "language": "python",
   "name": "python3"
  },
  "language_info": {
   "codemirror_mode": {
    "name": "ipython",
    "version": 3
   },
   "file_extension": ".py",
   "mimetype": "text/x-python",
   "name": "python",
   "nbconvert_exporter": "python",
   "pygments_lexer": "ipython3",
   "version": "3.8.8"
  }
 },
 "nbformat": 4,
 "nbformat_minor": 5
}
